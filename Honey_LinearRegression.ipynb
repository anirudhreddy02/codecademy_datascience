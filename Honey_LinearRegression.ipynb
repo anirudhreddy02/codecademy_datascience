{
  "nbformat": 4,
  "nbformat_minor": 0,
  "metadata": {
    "colab": {
      "name": "Honey_LinearRegression.ipynb",
      "provenance": [],
      "authorship_tag": "ABX9TyPSOL+AwA3cqDQ6qnh9XGrs",
      "include_colab_link": true
    },
    "kernelspec": {
      "name": "python3",
      "display_name": "Python 3"
    }
  },
  "cells": [
    {
      "cell_type": "markdown",
      "metadata": {
        "id": "view-in-github",
        "colab_type": "text"
      },
      "source": [
        "<a href=\"https://colab.research.google.com/github/anirudhreddy02/codecademy_datascience/blob/master/Honey_LinearRegression.ipynb\" target=\"_parent\"><img src=\"https://colab.research.google.com/assets/colab-badge.svg\" alt=\"Open In Colab\"/></a>"
      ]
    },
    {
      "cell_type": "code",
      "metadata": {
        "id": "5c45rVI-jc7O",
        "colab_type": "code",
        "colab": {}
      },
      "source": [
        "import numpy as np\n",
        "import pandas as pd\n",
        "from matplotlib import pyplot as plt\n",
        "from sklearn import linear_model"
      ],
      "execution_count": 0,
      "outputs": []
    },
    {
      "cell_type": "code",
      "metadata": {
        "id": "cIcPdpGNobAK",
        "colab_type": "code",
        "colab": {}
      },
      "source": [
        ""
      ],
      "execution_count": 0,
      "outputs": []
    },
    {
      "cell_type": "code",
      "metadata": {
        "id": "gvoijk82jqW4",
        "colab_type": "code",
        "colab": {}
      },
      "source": [
        "url = \"https://s3.amazonaws.com/codecademy-content/programs/data-science-path/linear_regression/honeyproduction.csv\"\n",
        "\n",
        "df = pd.read_csv(url)"
      ],
      "execution_count": 0,
      "outputs": []
    },
    {
      "cell_type": "code",
      "metadata": {
        "id": "Y3qUtkeBj45o",
        "colab_type": "code",
        "colab": {}
      },
      "source": [
        "df.head()"
      ],
      "execution_count": 0,
      "outputs": []
    },
    {
      "cell_type": "code",
      "metadata": {
        "id": "ctpMC__bj_tv",
        "colab_type": "code",
        "colab": {
          "base_uri": "https://localhost:8080/",
          "height": 206
        },
        "outputId": "04b8f6ff-40c7-4e1c-da76-9f8a436522b6"
      },
      "source": [
        "prod_per_year = df.groupby(by = 'year').totalprod.mean().reset_index()\n",
        "type(prod_per_year)\n",
        "prod_per_year.head()\n"
      ],
      "execution_count": 24,
      "outputs": [
        {
          "output_type": "execute_result",
          "data": {
            "text/html": [
              "<div>\n",
              "<style scoped>\n",
              "    .dataframe tbody tr th:only-of-type {\n",
              "        vertical-align: middle;\n",
              "    }\n",
              "\n",
              "    .dataframe tbody tr th {\n",
              "        vertical-align: top;\n",
              "    }\n",
              "\n",
              "    .dataframe thead th {\n",
              "        text-align: right;\n",
              "    }\n",
              "</style>\n",
              "<table border=\"1\" class=\"dataframe\">\n",
              "  <thead>\n",
              "    <tr style=\"text-align: right;\">\n",
              "      <th></th>\n",
              "      <th>year</th>\n",
              "      <th>totalprod</th>\n",
              "    </tr>\n",
              "  </thead>\n",
              "  <tbody>\n",
              "    <tr>\n",
              "      <th>0</th>\n",
              "      <td>1998</td>\n",
              "      <td>5.105093e+06</td>\n",
              "    </tr>\n",
              "    <tr>\n",
              "      <th>1</th>\n",
              "      <td>1999</td>\n",
              "      <td>4.706674e+06</td>\n",
              "    </tr>\n",
              "    <tr>\n",
              "      <th>2</th>\n",
              "      <td>2000</td>\n",
              "      <td>5.106000e+06</td>\n",
              "    </tr>\n",
              "    <tr>\n",
              "      <th>3</th>\n",
              "      <td>2001</td>\n",
              "      <td>4.221545e+06</td>\n",
              "    </tr>\n",
              "    <tr>\n",
              "      <th>4</th>\n",
              "      <td>2002</td>\n",
              "      <td>3.892386e+06</td>\n",
              "    </tr>\n",
              "  </tbody>\n",
              "</table>\n",
              "</div>"
            ],
            "text/plain": [
              "   year     totalprod\n",
              "0  1998  5.105093e+06\n",
              "1  1999  4.706674e+06\n",
              "2  2000  5.106000e+06\n",
              "3  2001  4.221545e+06\n",
              "4  2002  3.892386e+06"
            ]
          },
          "metadata": {
            "tags": []
          },
          "execution_count": 24
        }
      ]
    },
    {
      "cell_type": "code",
      "metadata": {
        "id": "6Px-X_JQko9Z",
        "colab_type": "code",
        "colab": {}
      },
      "source": [
        "X = prod_per_year['year']\n",
        "X = X.values.reshape(-1, 1)\n",
        "#X1 = X1.to_numpy()\n",
        "X"
      ],
      "execution_count": 0,
      "outputs": []
    },
    {
      "cell_type": "code",
      "metadata": {
        "id": "dRXd2mefnh_l",
        "colab_type": "code",
        "colab": {
          "base_uri": "https://localhost:8080/",
          "height": 298
        },
        "outputId": "706fcb01-45e4-4e4d-cf7b-9c0b5deb0a6d"
      },
      "source": [
        "Y = prod_per_year['totalprod']\n",
        "Y =Y.values.reshape(-1,1)\n",
        "Y"
      ],
      "execution_count": 25,
      "outputs": [
        {
          "output_type": "execute_result",
          "data": {
            "text/plain": [
              "array([[5105093.02325581],\n",
              "       [4706674.41860465],\n",
              "       [5106000.        ],\n",
              "       [4221545.45454545],\n",
              "       [3892386.36363636],\n",
              "       [4122090.90909091],\n",
              "       [4456804.87804878],\n",
              "       [4243146.34146341],\n",
              "       [3761902.43902439],\n",
              "       [3600512.19512195],\n",
              "       [3974926.82926829],\n",
              "       [3626700.        ],\n",
              "       [4382350.        ],\n",
              "       [3680025.        ],\n",
              "       [3522675.        ]])"
            ]
          },
          "metadata": {
            "tags": []
          },
          "execution_count": 25
        }
      ]
    },
    {
      "cell_type": "code",
      "metadata": {
        "id": "s7SWg6sSnkn_",
        "colab_type": "code",
        "colab": {
          "base_uri": "https://localhost:8080/",
          "height": 276
        },
        "outputId": "8a80dd8d-d542-46af-94a2-f19860428550"
      },
      "source": [
        "plt.scatter(X,Y)\n",
        "plt.show()"
      ],
      "execution_count": 28,
      "outputs": [
        {
          "output_type": "display_data",
          "data": {
            "image/png": "[encoded data removed]",
            "text/plain": [
              "<Figure size 432x288 with 1 Axes>"
            ]
          },
          "metadata": {
            "tags": [],
            "needs_background": "light"
          }
        }
      ]
    },
    {
      "cell_type": "code",
      "metadata": {
        "id": "RtWgvk28ofxf",
        "colab_type": "code",
        "colab": {
          "base_uri": "https://localhost:8080/",
          "height": 36
        },
        "outputId": "e2ba04ed-33d9-4bbc-d0b0-ab6989e60e15"
      },
      "source": [
        "regr = linear_model.LinearRegression()\n",
        "regr.fit(X,Y)\n",
        "print(regr.coef_[0])"
      ],
      "execution_count": 34,
      "outputs": [
        {
          "output_type": "stream",
          "text": [
            "[-88303.18915238]\n"
          ],
          "name": "stdout"
        }
      ]
    },
    {
      "cell_type": "code",
      "metadata": {
        "id": "7lmplshxptgx",
        "colab_type": "code",
        "colab": {}
      },
      "source": [
        "y_predict = regr.predict(X)"
      ],
      "execution_count": 0,
      "outputs": []
    },
    {
      "cell_type": "code",
      "metadata": {
        "id": "yp_ad5g-qFc2",
        "colab_type": "code",
        "colab": {
          "base_uri": "https://localhost:8080/",
          "height": 276
        },
        "outputId": "c62be1d4-0a0a-4b46-bcaf-6ba5bb5d3309"
      },
      "source": [
        "plt.plot(X,y_predict)\n",
        "plt.scatter(X,Y)\n",
        "plt.show()"
      ],
      "execution_count": 37,
      "outputs": [
        {
          "output_type": "display_data",
          "data": {
            "image/png": "[encoded data removed]",
            "text/plain": [
              "<Figure size 432x288 with 1 Axes>"
            ]
          },
          "metadata": {
            "tags": [],
            "needs_background": "light"
          }
        }
      ]
    },
    {
      "cell_type": "markdown",
      "metadata": {
        "id": "iNWsxA9zqsyw",
        "colab_type": "text"
      },
      "source": [
        "# Prediction of Honey production through 2050\n"
      ]
    },
    {
      "cell_type": "code",
      "metadata": {
        "id": "BJtVGV7Hq2Zm",
        "colab_type": "code",
        "colab": {}
      },
      "source": [
        "X_future = np.array(range(2013,2050))\n",
        "X_future = X_future.reshape(-1, 1)\n",
        "X_future"
      ],
      "execution_count": 0,
      "outputs": []
    },
    {
      "cell_type": "code",
      "metadata": {
        "id": "vTsnPNy_rUOM",
        "colab_type": "code",
        "colab": {}
      },
      "source": [
        "Y_future = regr.predict(X_future)\n"
      ],
      "execution_count": 0,
      "outputs": []
    },
    {
      "cell_type": "code",
      "metadata": {
        "id": "Z4az8g_LrcNc",
        "colab_type": "code",
        "colab": {
          "base_uri": "https://localhost:8080/",
          "height": 276
        },
        "outputId": "0b9aefd1-10b5-4ea4-a914-58631cc50490"
      },
      "source": [
        "plt.plot(X_future,Y_future)\n",
        "plt.plot(X,y_predict)\n",
        "plt.scatter(X,Y)\n",
        "plt.show()"
      ],
      "execution_count": 42,
      "outputs": [
        {
          "output_type": "display_data",
          "data": {
            "image/png": "[encoded data removed]",
            "text/plain": [
              "<Figure size 432x288 with 1 Axes>"
            ]
          },
          "metadata": {
            "tags": [],
            "needs_background": "light"
          }
        }
      ]
    }
  ]
}